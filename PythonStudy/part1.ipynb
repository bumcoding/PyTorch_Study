{
 "cells": [
  {
   "cell_type": "code",
   "execution_count": 1,
   "id": "8d713601-7293-4a9b-a2d6-afe61f5da825",
   "metadata": {},
   "outputs": [],
   "source": [
    "# 1. 변수 선언 및 자료형\n",
    "\n",
    "a = 10              # 정수형\n",
    "b = 3.14            # 실수형\n",
    "c = \"Hello\"         # 문자열\n",
    "d = True            # 불리언\n",
    "e = [1, 2, 3]       # 리스트\n",
    "f = (1, 2, 3)       # 튜플\n",
    "g = {\"a\": 1}        # 딕셔너리\n",
    "h = {1, 2, 3}       # 집합"
   ]
  },
  {
   "cell_type": "code",
   "execution_count": 2,
   "id": "ea0b8098-0bc9-4271-9dd4-d62137c1a8ce",
   "metadata": {},
   "outputs": [
    {
     "name": "stdout",
     "output_type": "stream",
     "text": [
      "7입니다\n"
     ]
    }
   ],
   "source": [
    "# 2. 조건문 (if, elif, else)\n",
    "\n",
    "x = 7\n",
    "if x > 10:\n",
    "    print(\"10보다 큽니다\")\n",
    "elif x == 7:\n",
    "    print(\"7입니다\")\n",
    "else:\n",
    "    print(\"10보다 작습니다\")\n"
   ]
  },
  {
   "cell_type": "code",
   "execution_count": 3,
   "id": "dc5cf920-e928-4c0e-80d4-f72aa63da785",
   "metadata": {},
   "outputs": [
    {
     "name": "stdout",
     "output_type": "stream",
     "text": [
      "0\n",
      "1\n",
      "2\n",
      "3\n",
      "4\n",
      "0\n",
      "1\n",
      "2\n",
      "3\n",
      "4\n"
     ]
    }
   ],
   "source": [
    "# 3. 반복문 (for, while)\n",
    "\n",
    "# for문\n",
    "for i in range(5):\n",
    "    print(i)  # 0부터 4까지\n",
    "\n",
    "# while문\n",
    "i = 0\n",
    "while i < 5:\n",
    "    print(i)\n",
    "    i += 1\n"
   ]
  },
  {
   "cell_type": "code",
   "execution_count": 4,
   "id": "16cb0767-1f68-4ca4-b3af-2c33bb24a789",
   "metadata": {},
   "outputs": [
    {
     "name": "stdout",
     "output_type": "stream",
     "text": [
      "안녕하세요, 홍준영님!\n"
     ]
    }
   ],
   "source": [
    "# 4. 함수 정의 (def)\n",
    "\n",
    "def greet(name):\n",
    "    return f\"안녕하세요, {name}님!\"\n",
    "\n",
    "print(greet(\"홍준영\"))  # 안녕하세요, 홍준영님!\n"
   ]
  },
  {
   "cell_type": "code",
   "execution_count": 5,
   "id": "6da944dd-756d-499b-882f-1b2b64f19bb7",
   "metadata": {},
   "outputs": [
    {
     "name": "stdout",
     "output_type": "stream",
     "text": [
      "[0, 1, 4, 9, 16]\n"
     ]
    }
   ],
   "source": [
    "# 5. 리스트\n",
    "\n",
    "squares = [x ** 2 for x in range(5)]\n",
    "print(squares)  # [0, 1, 4, 9, 16]\n"
   ]
  },
  {
   "cell_type": "code",
   "execution_count": 6,
   "id": "f9c1422b-7da7-4e1f-bc7e-11f505b9a2b3",
   "metadata": {},
   "outputs": [
    {
     "name": "stdin",
     "output_type": "stream",
     "text": [
      "숫자 입력:  12\n"
     ]
    },
    {
     "name": "stdout",
     "output_type": "stream",
     "text": [
      "0.8333333333333334\n"
     ]
    }
   ],
   "source": [
    "# 6. 예외 처리 (try - except)\n",
    "\n",
    "try:\n",
    "    num = int(input(\"숫자 입력: \"))\n",
    "    print(10 / num)\n",
    "except ZeroDivisionError:\n",
    "    print(\"0으로 나눌 수 없습니다.\")\n",
    "except ValueError:\n",
    "    print(\"숫자를 입력해주세요.\")\n"
   ]
  },
  {
   "cell_type": "code",
   "execution_count": 7,
   "id": "b162b10e-d2ee-4c90-a230-d4df548510d1",
   "metadata": {},
   "outputs": [
    {
     "name": "stdout",
     "output_type": "stream",
     "text": [
      "Hello, World!\n"
     ]
    }
   ],
   "source": [
    "# 7. 파일 입출력\n",
    "\n",
    "# 쓰기\n",
    "with open(\"test.txt\", \"w\") as f:\n",
    "    f.write(\"Hello, World!\")\n",
    "\n",
    "# 읽기\n",
    "with open(\"test.txt\", \"r\") as f:\n",
    "    content = f.read()\n",
    "    print(content)\n"
   ]
  },
  {
   "cell_type": "code",
   "execution_count": 8,
   "id": "6126a6df-1d4c-465f-8621-c167c5cc481a",
   "metadata": {},
   "outputs": [
    {
     "name": "stdout",
     "output_type": "stream",
     "text": [
      "안녕하세요, 저는 준영입니다.\n"
     ]
    }
   ],
   "source": [
    "# 8. 클래스와 객체\n",
    "\n",
    "class Person:\n",
    "    def __init__(self, name):\n",
    "        self.name = name\n",
    "\n",
    "    def greet(self):\n",
    "        print(f\"안녕하세요, 저는 {self.name}입니다.\")\n",
    "\n",
    "p = Person(\"준영\")\n",
    "p.greet()\n"
   ]
  },
  {
   "cell_type": "code",
   "execution_count": 9,
   "id": "d654b82c-90e7-4a33-aca9-19152567ddbf",
   "metadata": {},
   "outputs": [
    {
     "data": {
      "text/plain": [
       "['h', 'e', 'l', 'l', 'o']"
      ]
     },
     "execution_count": 9,
     "metadata": {},
     "output_type": "execute_result"
    }
   ],
   "source": [
    "# 9. 주요 내장 함수들\n",
    "\n",
    "len([1, 2, 3])        # 길이\n",
    "sum([1, 2, 3])        # 합계\n",
    "max([1, 5, 3])        # 최댓값\n",
    "min([1, 5, 3])        # 최솟값\n",
    "sorted([3, 1, 2])     # 정렬\n",
    "list(\"hello\")         # 리스트 변환\n"
   ]
  },
  {
   "cell_type": "code",
   "execution_count": 10,
   "id": "336e9735-61ac-4a82-8215-1fd8bf7b52ae",
   "metadata": {},
   "outputs": [
    {
     "name": "stdout",
     "output_type": "stream",
     "text": [
      "7\n"
     ]
    }
   ],
   "source": [
    "# 10. Lambda (익명 함수) & map/filter\n",
    "\n",
    "# lambda\n",
    "add = lambda x, y: x + y\n",
    "print(add(3, 4))  # 7\n",
    "\n",
    "# map\n",
    "nums = [1, 2, 3]\n",
    "squares = list(map(lambda x: x**2, nums))  # [1, 4, 9]\n",
    "\n",
    "# filter\n",
    "even = list(filter(lambda x: x % 2 == 0, nums))  # [2]\n"
   ]
  },
  {
   "cell_type": "code",
   "execution_count": 11,
   "id": "2ec9b6d3-eb0a-48d8-8371-e55b0b043d67",
   "metadata": {},
   "outputs": [
    {
     "name": "stdout",
     "output_type": "stream",
     "text": [
      "4.0\n",
      "4\n"
     ]
    }
   ],
   "source": [
    "# 11. 모듈 import\n",
    "\n",
    "import math\n",
    "print(math.sqrt(16))  # 4.0\n",
    "\n",
    "from random import randint\n",
    "print(randint(1, 10))  # 1~10 사이 랜덤 숫자\n"
   ]
  },
  {
   "cell_type": "code",
   "execution_count": 12,
   "id": "e2f9a649-3759-4709-a364-fb9ee6357f4f",
   "metadata": {},
   "outputs": [
    {
     "name": "stdout",
     "output_type": "stream",
     "text": [
      "성인\n"
     ]
    }
   ],
   "source": [
    "# 12. 조건 표현식 (삼항 연산자)\n",
    "\n",
    "age = 18\n",
    "status = \"성인\" if age >= 18 else \"미성년자\"\n",
    "print(status)  # 성인\n"
   ]
  },
  {
   "cell_type": "code",
   "execution_count": null,
   "id": "9168f06c-cced-422b-915e-86e219c4f682",
   "metadata": {},
   "outputs": [],
   "source": []
  }
 ],
 "metadata": {
  "kernelspec": {
   "display_name": "Python 3 (ipykernel)",
   "language": "python",
   "name": "python3"
  },
  "language_info": {
   "codemirror_mode": {
    "name": "ipython",
    "version": 3
   },
   "file_extension": ".py",
   "mimetype": "text/x-python",
   "name": "python",
   "nbconvert_exporter": "python",
   "pygments_lexer": "ipython3",
   "version": "3.10.11"
  }
 },
 "nbformat": 4,
 "nbformat_minor": 5
}
