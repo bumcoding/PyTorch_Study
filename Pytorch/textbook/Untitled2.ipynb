{
 "cells": [
  {
   "cell_type": "code",
   "execution_count": 20,
   "id": "a80dd41c-e01f-494c-aa24-ded8d87b94fb",
   "metadata": {},
   "outputs": [
    {
     "name": "stdout",
     "output_type": "stream",
     "text": [
      "이번에 뽑힌 숫자: 30\n"
     ]
    }
   ],
   "source": [
    "import random\n",
    "import os\n",
    "import json\n",
    "\n",
    "FILE_PATH = \"used_numbers.json\"\n",
    "\n",
    "# 이미 사용한 숫자 불러오기\n",
    "if os.path.exists(FILE_PATH):\n",
    "    with open(FILE_PATH, \"r\") as f:\n",
    "        used_numbers = json.load(f)\n",
    "else:\n",
    "    used_numbers = []\n",
    "\n",
    "# 남은 숫자 구하기\n",
    "remaining = [n for n in range(1, 31) if n not in used_numbers]\n",
    "\n",
    "if remaining:\n",
    "    number = random.choice(remaining)\n",
    "    print(f\"이번에 뽑힌 숫자: {number}\")\n",
    "\n",
    "    # 사용한 숫자 저장\n",
    "    used_numbers.append(number)\n",
    "    with open(FILE_PATH, \"w\") as f:\n",
    "        json.dump(used_numbers, f)\n",
    "else:\n",
    "    print(\"모든 숫자를 다 뽑았습니다!\")\n"
   ]
  },
  {
   "cell_type": "code",
   "execution_count": null,
   "id": "9e58d59a-5c78-4530-a550-ed8f55c9311c",
   "metadata": {},
   "outputs": [],
   "source": []
  },
  {
   "cell_type": "code",
   "execution_count": null,
   "id": "be182595-b79e-4aee-8240-eba768fdcf85",
   "metadata": {},
   "outputs": [],
   "source": []
  }
 ],
 "metadata": {
  "kernelspec": {
   "display_name": "Python 3 (ipykernel)",
   "language": "python",
   "name": "python3"
  },
  "language_info": {
   "codemirror_mode": {
    "name": "ipython",
    "version": 3
   },
   "file_extension": ".py",
   "mimetype": "text/x-python",
   "name": "python",
   "nbconvert_exporter": "python",
   "pygments_lexer": "ipython3",
   "version": "3.10.11"
  }
 },
 "nbformat": 4,
 "nbformat_minor": 5
}
