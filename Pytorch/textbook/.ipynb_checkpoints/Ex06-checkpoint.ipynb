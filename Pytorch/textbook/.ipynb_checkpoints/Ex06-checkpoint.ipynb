{
 "cells": [
  {
   "cell_type": "code",
   "execution_count": null,
   "id": "2ecc797c-9e32-46de-bce3-92e931397a5a",
   "metadata": {},
   "outputs": [],
   "source": [
    "import re\n",
    "from collections import Counter\n",
    "\n",
    "file_path = '/content/06TheAvengers.txt'\n",
    "with open(file_path, 'r', encoding='utf-8') as f:\n",
    "    text = f.read()\n",
    "\n",
    "#소문자 변환, 특수기호 제거\n",
    "text = text.lower()\n",
    "cleaned_text = re.sub('[^a-z\\s]', '', text)\n",
    "\n",
    "#띄어쓰기 단위로 분리\n",
    "words = cleaned_text.split()\n",
    "\n",
    "#단어별 빈도수 딕셔너리\n",
    "dic = Counter(words)\n",
    "\n",
    "print(dic)"
   ]
  }
 ],
 "metadata": {
  "kernelspec": {
   "display_name": "Python 3 (ipykernel)",
   "language": "python",
   "name": "python3"
  },
  "language_info": {
   "codemirror_mode": {
    "name": "ipython",
    "version": 3
   },
   "file_extension": ".py",
   "mimetype": "text/x-python",
   "name": "python",
   "nbconvert_exporter": "python",
   "pygments_lexer": "ipython3",
   "version": "3.10.11"
  }
 },
 "nbformat": 4,
 "nbformat_minor": 5
}
