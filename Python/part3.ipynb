{
 "cells": [
  {
   "cell_type": "code",
   "execution_count": 1,
   "id": "38956c13-c303-40fc-8ff4-775a865c5046",
   "metadata": {},
   "outputs": [
    {
     "name": "stdout",
     "output_type": "stream",
     "text": [
      "뽀삐\n",
      "멍멍!\n",
      "0 1\n",
      "2\n"
     ]
    }
   ],
   "source": [
    "# 1. 클래스 심화: super(), 클래스 변수 vs 인스턴스 변수\n",
    "\n",
    "# super()로 부모 메서드 호출\n",
    "class Animal:\n",
    "    def __init__(self, name):\n",
    "        self.name = name\n",
    "\n",
    "    def speak(self):\n",
    "        return \"...\"\n",
    "\n",
    "class Dog(Animal):\n",
    "    def __init__(self, name, breed):\n",
    "        super().__init__(name)  # 부모 클래스 생성자 호출\n",
    "        self.breed = breed\n",
    "\n",
    "    def speak(self):\n",
    "        return \"멍멍!\"\n",
    "\n",
    "d = Dog(\"뽀삐\", \"푸들\")\n",
    "print(d.name)     # 뽀삐\n",
    "print(d.speak())  # 멍멍!\n",
    "\n",
    "\n",
    "# 클래스 변수 vs 인스턴스 변수\n",
    "class Counter:\n",
    "    count = 0  # 클래스 변수 (모든 인스턴스가 공유)\n",
    "\n",
    "    def __init__(self):\n",
    "        self.id = Counter.count\n",
    "        Counter.count += 1\n",
    "\n",
    "a = Counter()\n",
    "b = Counter()\n",
    "print(a.id, b.id)         # 0 1\n",
    "print(Counter.count)      # 2\n"
   ]
  },
  {
   "cell_type": "code",
   "execution_count": null,
   "id": "d37d6299-462e-4894-a1db-bfe3dd8e8605",
   "metadata": {},
   "outputs": [],
   "source": [
    "# 2. 파일 다루기 심화: readlines(), CSV 파일, 예외처리까지\n",
    "\n",
    "# 파일 전체 줄 단위 읽기\n",
    "with open(\"data.txt\", \"r\") as f:\n",
    "    lines = f.readlines()\n",
    "\n",
    "for line in lines:\n",
    "    print(line.strip())  # 줄바꿈 제거\n",
    "\n",
    "\n",
    "# CSV 파일 다루기 (기초)\n",
    "import csv\n",
    "\n",
    "# 쓰기\n",
    "with open(\"users.csv\", \"w\", newline='') as f:\n",
    "    writer = csv.writer(f)\n",
    "    writer.writerow([\"이름\", \"나이\"])\n",
    "    writer.writerow([\"홍준영\", 25])\n",
    "\n",
    "# 읽기\n",
    "with open(\"users.csv\", \"r\") as f:\n",
    "    reader = csv.reader(f)\n",
    "    for row in reader:\n",
    "        print(row)\n"
   ]
  },
  {
   "cell_type": "code",
   "execution_count": null,
   "id": "2bd18610-a14d-4cca-a156-dcb9e1b0ca6f",
   "metadata": {},
   "outputs": [],
   "source": [
    "# 3. 문자열 처리 심화: 정규표현식 re, 텍스트 전처리\n",
    "\n",
    "# 정규표현식 (필수)\n",
    "import re\n",
    "\n",
    "text = \"이메일: user@example.com, 또 다른 건 test123@test.co.kr\"\n",
    "\n",
    "emails = re.findall(r'\\b[\\w.-]+@[\\w.-]+\\.\\w+\\b', text)\n",
    "print(emails)  # ['user@example.com', 'test123@test.co.kr']\n",
    "\n",
    "# 텍스트 전처리 예제\n",
    "def clean_text(text):\n",
    "    text = re.sub(r'[^a-zA-Z0-9가-힣\\s]', '', text)  # 특수문자 제거\n",
    "    text = text.lower()  # 소문자화\n",
    "    text = re.sub(r'\\s+', ' ', text).strip()  # 공백 정리\n",
    "    return text\n",
    "\n",
    "raw = \"안녕하세요!!!   파이썬을    배우고 있습니다...😊\"\n",
    "print(clean_text(raw))  # 안녕하세요 파이썬을 배우고 있습니다\n"
   ]
  },
  {
   "cell_type": "code",
   "execution_count": null,
   "id": "43453202-eae7-4445-835e-3cdd80bd3526",
   "metadata": {},
   "outputs": [],
   "source": [
    "# 4. 모듈화: .py 파일 나누기 + __name__ == \"__main__\"\n",
    "\n",
    "# 여러 파일로 코드 나누기\n",
    "# calc.py\n",
    "def add(a, b):\n",
    "    return a + b\n",
    "\n",
    "# main.py\n",
    "import calc\n",
    "print(calc.add(3, 5))  # 8\n",
    "\n",
    "\n",
    "# __name__ == \"__main__\" 패턴\n",
    "# mymodule.py\n",
    "def greet():\n",
    "    print(\"Hello!\")\n",
    "\n",
    "if __name__ == \"__main__\":\n",
    "    greet()  # 이 파일을 직접 실행했을 때만 실행됨\n"
   ]
  }
 ],
 "metadata": {
  "kernelspec": {
   "display_name": "Python 3 (ipykernel)",
   "language": "python",
   "name": "python3"
  },
  "language_info": {
   "codemirror_mode": {
    "name": "ipython",
    "version": 3
   },
   "file_extension": ".py",
   "mimetype": "text/x-python",
   "name": "python",
   "nbconvert_exporter": "python",
   "pygments_lexer": "ipython3",
   "version": "3.10.11"
  }
 },
 "nbformat": 4,
 "nbformat_minor": 5
}
