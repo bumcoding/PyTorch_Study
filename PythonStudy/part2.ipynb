{
 "cells": [
  {
   "cell_type": "code",
   "execution_count": 1,
   "id": "741c2da0-49a2-4625-b32c-fb6339cd6fcc",
   "metadata": {},
   "outputs": [
    {
     "name": "stdout",
     "output_type": "stream",
     "text": [
      "준영\n",
      "name 준영\n",
      "age 25\n",
      "hobby 코딩\n",
      "name: 준영\n",
      "age: 25\n",
      "hobby: 코딩\n"
     ]
    }
   ],
   "source": [
    "# 13. 딕셔너리 활용\n",
    "\n",
    "person = {\n",
    "    \"name\": \"준영\",\n",
    "    \"age\": 25,\n",
    "    \"hobby\": \"코딩\"\n",
    "}\n",
    "\n",
    "# 값 접근\n",
    "print(person[\"name\"])\n",
    "\n",
    "# 키 반복\n",
    "for key in person:\n",
    "    print(key, person[key])\n",
    "\n",
    "# 키, 값 동시 접근\n",
    "for k, v in person.items():\n",
    "    print(f\"{k}: {v}\")\n"
   ]
  },
  {
   "cell_type": "code",
   "execution_count": 2,
   "id": "ca25d015-ecf8-42f0-a860-612972c413b2",
   "metadata": {},
   "outputs": [
    {
     "ename": "ValueError",
     "evalue": "list.remove(x): x not in list",
     "output_type": "error",
     "traceback": [
      "\u001b[0;31m---------------------------------------------------------------------------\u001b[0m",
      "\u001b[0;31mValueError\u001b[0m                                Traceback (most recent call last)",
      "Cell \u001b[0;32mIn[2], line 8\u001b[0m\n\u001b[1;32m      6\u001b[0m lst\u001b[38;5;241m.\u001b[39mreverse()      \u001b[38;5;66;03m# 뒤집기\u001b[39;00m\n\u001b[1;32m      7\u001b[0m lst\u001b[38;5;241m.\u001b[39mpop()          \u001b[38;5;66;03m# 마지막 요소 제거\u001b[39;00m\n\u001b[0;32m----> 8\u001b[0m \u001b[43mlst\u001b[49m\u001b[38;5;241;43m.\u001b[39;49m\u001b[43mremove\u001b[49m\u001b[43m(\u001b[49m\u001b[38;5;241;43m1\u001b[39;49m\u001b[43m)\u001b[49m      \u001b[38;5;66;03m# 특정 요소 제거\u001b[39;00m\n\u001b[1;32m      9\u001b[0m lst\u001b[38;5;241m.\u001b[39mindex(\u001b[38;5;241m3\u001b[39m)\n",
      "\u001b[0;31mValueError\u001b[0m: list.remove(x): x not in list"
     ]
    }
   ],
   "source": [
    "# 14. 리스트 메서드들\n",
    "\n",
    "lst = [3, 1, 2]\n",
    "lst.append(4)      # 추가\n",
    "lst.sort()         # 정렬\n",
    "lst.reverse()      # 뒤집기\n",
    "lst.pop()          # 마지막 요소 제거\n",
    "lst.remove(1)      # 특정 요소 제거\n",
    "lst.index(3)       # 3의 인덱스\n"
   ]
  },
  {
   "cell_type": "code",
   "execution_count": 3,
   "id": "c6c91d73-2318-4dc2-8b7f-473b53ed099f",
   "metadata": {},
   "outputs": [
    {
     "name": "stdout",
     "output_type": "stream",
     "text": [
      "1\n",
      "3\n"
     ]
    }
   ],
   "source": [
    "# 15. 반복 제어 키워드: break, continue\n",
    "\n",
    "for i in range(10):\n",
    "    if i == 5:\n",
    "        break   # 5에서 반복 종료\n",
    "    if i % 2 == 0:\n",
    "        continue  # 짝수는 건너뜀\n",
    "    print(i)\n"
   ]
  },
  {
   "cell_type": "code",
   "execution_count": 4,
   "id": "d744ef24-7289-4a3d-a4d6-1c22b6e60a22",
   "metadata": {},
   "outputs": [
    {
     "name": "stdout",
     "output_type": "stream",
     "text": [
      "[1, 2, 3]\n",
      "[0, 1, 2]\n",
      "[0, 2, 4]\n",
      "olleH\n"
     ]
    }
   ],
   "source": [
    "# 16. 슬라이싱 (리스트, 문자열)\n",
    "\n",
    "lst = [0, 1, 2, 3, 4]\n",
    "print(lst[1:4])      # [1, 2, 3]\n",
    "print(lst[:3])       # [0, 1, 2]\n",
    "print(lst[::2])      # [0, 2, 4]\n",
    "print(\"Hello\"[::-1]) # olleH (역순)\n"
   ]
  },
  {
   "cell_type": "code",
   "execution_count": 5,
   "id": "eecdf443-1d29-4800-9a53-83579ee32e4f",
   "metadata": {},
   "outputs": [
    {
     "name": "stdout",
     "output_type": "stream",
     "text": [
      "True\n",
      "False\n"
     ]
    }
   ],
   "source": [
    "# 17. bool 연산자와 조건 결합\n",
    "\n",
    "x = 10\n",
    "print(x > 5 and x < 20)  # True\n",
    "print(not x == 10)       # False\n"
   ]
  },
  {
   "cell_type": "code",
   "execution_count": 6,
   "id": "051f791e-c825-4787-8e08-d40f49ab191b",
   "metadata": {},
   "outputs": [
    {
     "name": "stdout",
     "output_type": "stream",
     "text": [
      "홍준영님의 나이는 25세입니다.\n"
     ]
    }
   ],
   "source": [
    "# 18. 문자열 포매팅 (f-string)\n",
    "\n",
    "name = \"홍준영\"\n",
    "age = 25\n",
    "print(f\"{name}님의 나이는 {age}세입니다.\")\n"
   ]
  },
  {
   "cell_type": "code",
   "execution_count": 7,
   "id": "773a8d8c-36bf-48ce-bc1f-ece9948f5aa0",
   "metadata": {},
   "outputs": [
    {
     "name": "stdout",
     "output_type": "stream",
     "text": [
      "5초 대기 중...\n",
      "완료!\n"
     ]
    }
   ],
   "source": [
    "# 19. 시간 관련 기본 문법\n",
    "\n",
    "import time\n",
    "\n",
    "print(\"5초 대기 중...\")\n",
    "time.sleep(5)\n",
    "print(\"완료!\")\n"
   ]
  },
  {
   "cell_type": "code",
   "execution_count": 8,
   "id": "38a6f81f-eecd-498d-aa51-6ddd1fb6aca9",
   "metadata": {},
   "outputs": [
    {
     "name": "stdout",
     "output_type": "stream",
     "text": [
      "철수: 90\n",
      "영희: 85\n",
      "0: a\n",
      "1: b\n",
      "2: c\n"
     ]
    }
   ],
   "source": [
    "# 20. zip(), enumerate() 더 깊이\n",
    "\n",
    "# zip\n",
    "names = [\"철수\", \"영희\"]\n",
    "scores = [90, 85]\n",
    "for name, score in zip(names, scores):\n",
    "    print(f\"{name}: {score}\")\n",
    "\n",
    "# enumerate\n",
    "for idx, value in enumerate([\"a\", \"b\", \"c\"]):\n",
    "    print(f\"{idx}: {value}\")\n"
   ]
  },
  {
   "cell_type": "code",
   "execution_count": 9,
   "id": "9770f8e0-31fb-40c2-ade5-4fc8b36b82f6",
   "metadata": {},
   "outputs": [
    {
     "name": "stdout",
     "output_type": "stream",
     "text": [
      "안녕하세요, 사용자님!\n",
      "안녕하세요, 준영님!\n",
      "10\n"
     ]
    }
   ],
   "source": [
    "# 21. 함수 심화: 기본값, 가변인자\n",
    "\n",
    "def greet(name=\"사용자\"):\n",
    "    print(f\"안녕하세요, {name}님!\")\n",
    "\n",
    "greet()\n",
    "greet(\"준영\")\n",
    "\n",
    "def add_all(*args):\n",
    "    return sum(args)\n",
    "\n",
    "print(add_all(1, 2, 3, 4))  # 10\n"
   ]
  },
  {
   "cell_type": "code",
   "execution_count": 10,
   "id": "7a854b29-c120-432d-8ddb-8a562c38dfe7",
   "metadata": {},
   "outputs": [
    {
     "name": "stdout",
     "output_type": "stream",
     "text": [
      "{1, 2, 3}\n"
     ]
    }
   ],
   "source": [
    "# 22. 리스트 vs 집합(Set) vs 딕셔너리\n",
    "\n",
    "# 리스트: 순서O, 중복O\n",
    "# 집합: 순서X, 중복X\n",
    "s = set([1, 2, 2, 3])\n",
    "print(s)  # {1, 2, 3}\n",
    "\n",
    "# 딕셔너리: 키-값 쌍\n",
    "d = {\"a\": 1, \"b\": 2}\n"
   ]
  },
  {
   "cell_type": "code",
   "execution_count": null,
   "id": "108085f6-07cd-47c4-a002-7c27c40580de",
   "metadata": {},
   "outputs": [],
   "source": []
  }
 ],
 "metadata": {
  "kernelspec": {
   "display_name": "Python 3 (ipykernel)",
   "language": "python",
   "name": "python3"
  },
  "language_info": {
   "codemirror_mode": {
    "name": "ipython",
    "version": 3
   },
   "file_extension": ".py",
   "mimetype": "text/x-python",
   "name": "python",
   "nbconvert_exporter": "python",
   "pygments_lexer": "ipython3",
   "version": "3.10.11"
  }
 },
 "nbformat": 4,
 "nbformat_minor": 5
}
